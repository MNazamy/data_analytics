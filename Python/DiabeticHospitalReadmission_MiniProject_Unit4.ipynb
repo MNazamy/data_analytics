{
  "nbformat": 4,
  "nbformat_minor": 0,
  "metadata": {
    "colab": {
      "name": "MAIN Unit4_Miniproject.ipynb",
      "provenance": [],
      "collapsed_sections": [
        "AvLFV_6yBNTW",
        "tIInk-Qa8w1B",
        "D6PmUTW7bW3I",
        "r3v8UR1XbbKp",
        "dXRvQ5vQpzZG",
        "xR78CGWrqJBs",
        "ra7zImRKqQia",
        "CC-6oDkKqcr4",
        "eSP7KTKMqip-",
        "CZDzqhm_3nuf",
        "cJdppNc63qUQ"
      ],
      "authorship_tag": "ABX9TyN8ievC+ErPOkAoByGNLcdx",
      "include_colab_link": true
    },
    "kernelspec": {
      "name": "python3",
      "display_name": "Python 3"
    }
  },
  "cells": [
    {
      "cell_type": "markdown",
      "metadata": {
        "id": "view-in-github",
        "colab_type": "text"
      },
      "source": [
        "<a href=\"https://colab.research.google.com/github/MNazamy/data_analytics/blob/main/Python/DiabeticHospitalReadmission_MiniProject_Unit4.ipynb\" target=\"_parent\"><img src=\"https://colab.research.google.com/assets/colab-badge.svg\" alt=\"Open In Colab\"/></a>"
      ]
    },
    {
      "cell_type": "markdown",
      "metadata": {
        "id": "w_QqazUkecrF"
      },
      "source": [
        "# Overview\r\n",
        "From GitHub. \r\n",
        "\r\n",
        "This data is from over 130 hospitals who pooled together patient data in the hopes that data scientists can help find breakthroughs in medical treatment, and prediction of future patient health issues. \r\n",
        "\r\n",
        "In this project, we intend to build a predictive model that can accurately answer the question \"Can we accurately predict if a patient will be readmitted to the hospital, and if so, can we predict whether the readmittion will happen in 30 days?\"\r\n",
        "\r\n"
      ]
    },
    {
      "cell_type": "markdown",
      "metadata": {
        "id": "AvLFV_6yBNTW"
      },
      "source": [
        "# Imports and Data Reading\r\n"
      ]
    },
    {
      "cell_type": "code",
      "metadata": {
        "id": "7poa-8LB-1Ki"
      },
      "source": [
        "#Standard Libraries for visualization and data wrangling \r\n",
        "\r\n",
        "import pandas as pd\r\n",
        "import numpy as np\r\n",
        "import matplotlib.pyplot as plt\r\n",
        "import seaborn as sns; sns.set()\r\n",
        "%matplotlib inline\r\n",
        "sns.set_style('whitegrid')\r\n",
        "\r\n",
        "#Logistic Regression Models\r\n",
        "\r\n",
        "from sklearn.model_selection import train_test_split\r\n",
        "from sklearn.preprocessing import StandardScaler\r\n",
        "from sklearn.linear_model import LogisticRegression\r\n",
        "from sklearn.neighbors import KNeighborsClassifier\r\n",
        "from sklearn.ensemble import RandomForestClassifier\r\n",
        "from sklearn.metrics import classification_report, confusion_matrix\r\n",
        "from sklearn import metrics\r\n",
        "\r\n",
        "%matplotlib inline"
      ],
      "execution_count": 1477,
      "outputs": []
    },
    {
      "cell_type": "code",
      "metadata": {
        "colab": {
          "base_uri": "https://localhost:8080/"
        },
        "id": "hwHBDouAetoo",
        "outputId": "8a5fc3ee-98f0-4bdf-b64e-083f4e536290"
      },
      "source": [
        "# Reading CSV\r\n",
        "missing_values = ['?'] #only null values came in the form of '?'\r\n",
        "df = pd.read_csv('https://raw.githubusercontent.com/buildwelllabs/machine.learning.project/master/diabetic_data.csv',na_values = missing_values)"
      ],
      "execution_count": 1478,
      "outputs": [
        {
          "output_type": "stream",
          "text": [
            "/usr/local/lib/python3.6/dist-packages/IPython/core/interactiveshell.py:2718: DtypeWarning: Columns (10) have mixed types.Specify dtype option on import or set low_memory=False.\n",
            "  interactivity=interactivity, compiler=compiler, result=result)\n"
          ],
          "name": "stderr"
        }
      ]
    },
    {
      "cell_type": "code",
      "metadata": {
        "colab": {
          "base_uri": "https://localhost:8080/",
          "height": 261
        },
        "id": "bXM818iVoRXw",
        "outputId": "1c887cf8-0c5e-4c33-a31a-dcd36e12a1e3"
      },
      "source": [
        "df.head()"
      ],
      "execution_count": 1479,
      "outputs": [
        {
          "output_type": "execute_result",
          "data": {
            "text/html": [
              "<div>\n",
              "<style scoped>\n",
              "    .dataframe tbody tr th:only-of-type {\n",
              "        vertical-align: middle;\n",
              "    }\n",
              "\n",
              "    .dataframe tbody tr th {\n",
              "        vertical-align: top;\n",
              "    }\n",
              "\n",
              "    .dataframe thead th {\n",
              "        text-align: right;\n",
              "    }\n",
              "</style>\n",
              "<table border=\"1\" class=\"dataframe\">\n",
              "  <thead>\n",
              "    <tr style=\"text-align: right;\">\n",
              "      <th></th>\n",
              "      <th>encounter_id</th>\n",
              "      <th>patient_nbr</th>\n",
              "      <th>race</th>\n",
              "      <th>gender</th>\n",
              "      <th>age</th>\n",
              "      <th>weight</th>\n",
              "      <th>admission_type_id</th>\n",
              "      <th>discharge_disposition_id</th>\n",
              "      <th>admission_source_id</th>\n",
              "      <th>time_in_hospital</th>\n",
              "      <th>payer_code</th>\n",
              "      <th>medical_specialty</th>\n",
              "      <th>num_lab_procedures</th>\n",
              "      <th>num_procedures</th>\n",
              "      <th>num_medications</th>\n",
              "      <th>number_outpatient</th>\n",
              "      <th>number_emergency</th>\n",
              "      <th>number_inpatient</th>\n",
              "      <th>diag_1</th>\n",
              "      <th>diag_2</th>\n",
              "      <th>diag_3</th>\n",
              "      <th>number_diagnoses</th>\n",
              "      <th>max_glu_serum</th>\n",
              "      <th>A1Cresult</th>\n",
              "      <th>metformin</th>\n",
              "      <th>repaglinide</th>\n",
              "      <th>nateglinide</th>\n",
              "      <th>chlorpropamide</th>\n",
              "      <th>glimepiride</th>\n",
              "      <th>acetohexamide</th>\n",
              "      <th>glipizide</th>\n",
              "      <th>glyburide</th>\n",
              "      <th>tolbutamide</th>\n",
              "      <th>pioglitazone</th>\n",
              "      <th>rosiglitazone</th>\n",
              "      <th>acarbose</th>\n",
              "      <th>miglitol</th>\n",
              "      <th>troglitazone</th>\n",
              "      <th>tolazamide</th>\n",
              "      <th>examide</th>\n",
              "      <th>citoglipton</th>\n",
              "      <th>insulin</th>\n",
              "      <th>glyburide-metformin</th>\n",
              "      <th>glipizide-metformin</th>\n",
              "      <th>glimepiride-pioglitazone</th>\n",
              "      <th>metformin-rosiglitazone</th>\n",
              "      <th>metformin-pioglitazone</th>\n",
              "      <th>change</th>\n",
              "      <th>diabetesMed</th>\n",
              "      <th>readmitted</th>\n",
              "    </tr>\n",
              "  </thead>\n",
              "  <tbody>\n",
              "    <tr>\n",
              "      <th>0</th>\n",
              "      <td>2278392</td>\n",
              "      <td>8222157</td>\n",
              "      <td>Caucasian</td>\n",
              "      <td>Female</td>\n",
              "      <td>[0-10)</td>\n",
              "      <td>NaN</td>\n",
              "      <td>6</td>\n",
              "      <td>25</td>\n",
              "      <td>1</td>\n",
              "      <td>1</td>\n",
              "      <td>NaN</td>\n",
              "      <td>Pediatrics-Endocrinology</td>\n",
              "      <td>41</td>\n",
              "      <td>0</td>\n",
              "      <td>1</td>\n",
              "      <td>0</td>\n",
              "      <td>0</td>\n",
              "      <td>0</td>\n",
              "      <td>250.83</td>\n",
              "      <td>NaN</td>\n",
              "      <td>NaN</td>\n",
              "      <td>1</td>\n",
              "      <td>None</td>\n",
              "      <td>None</td>\n",
              "      <td>No</td>\n",
              "      <td>No</td>\n",
              "      <td>No</td>\n",
              "      <td>No</td>\n",
              "      <td>No</td>\n",
              "      <td>No</td>\n",
              "      <td>No</td>\n",
              "      <td>No</td>\n",
              "      <td>No</td>\n",
              "      <td>No</td>\n",
              "      <td>No</td>\n",
              "      <td>No</td>\n",
              "      <td>No</td>\n",
              "      <td>No</td>\n",
              "      <td>No</td>\n",
              "      <td>No</td>\n",
              "      <td>No</td>\n",
              "      <td>No</td>\n",
              "      <td>No</td>\n",
              "      <td>No</td>\n",
              "      <td>No</td>\n",
              "      <td>No</td>\n",
              "      <td>No</td>\n",
              "      <td>No</td>\n",
              "      <td>No</td>\n",
              "      <td>NO</td>\n",
              "    </tr>\n",
              "    <tr>\n",
              "      <th>1</th>\n",
              "      <td>149190</td>\n",
              "      <td>55629189</td>\n",
              "      <td>Caucasian</td>\n",
              "      <td>Female</td>\n",
              "      <td>[10-20)</td>\n",
              "      <td>NaN</td>\n",
              "      <td>1</td>\n",
              "      <td>1</td>\n",
              "      <td>7</td>\n",
              "      <td>3</td>\n",
              "      <td>NaN</td>\n",
              "      <td>NaN</td>\n",
              "      <td>59</td>\n",
              "      <td>0</td>\n",
              "      <td>18</td>\n",
              "      <td>0</td>\n",
              "      <td>0</td>\n",
              "      <td>0</td>\n",
              "      <td>276</td>\n",
              "      <td>250.01</td>\n",
              "      <td>255</td>\n",
              "      <td>9</td>\n",
              "      <td>None</td>\n",
              "      <td>None</td>\n",
              "      <td>No</td>\n",
              "      <td>No</td>\n",
              "      <td>No</td>\n",
              "      <td>No</td>\n",
              "      <td>No</td>\n",
              "      <td>No</td>\n",
              "      <td>No</td>\n",
              "      <td>No</td>\n",
              "      <td>No</td>\n",
              "      <td>No</td>\n",
              "      <td>No</td>\n",
              "      <td>No</td>\n",
              "      <td>No</td>\n",
              "      <td>No</td>\n",
              "      <td>No</td>\n",
              "      <td>No</td>\n",
              "      <td>No</td>\n",
              "      <td>Up</td>\n",
              "      <td>No</td>\n",
              "      <td>No</td>\n",
              "      <td>No</td>\n",
              "      <td>No</td>\n",
              "      <td>No</td>\n",
              "      <td>Ch</td>\n",
              "      <td>Yes</td>\n",
              "      <td>&gt;30</td>\n",
              "    </tr>\n",
              "    <tr>\n",
              "      <th>2</th>\n",
              "      <td>64410</td>\n",
              "      <td>86047875</td>\n",
              "      <td>AfricanAmerican</td>\n",
              "      <td>Female</td>\n",
              "      <td>[20-30)</td>\n",
              "      <td>NaN</td>\n",
              "      <td>1</td>\n",
              "      <td>1</td>\n",
              "      <td>7</td>\n",
              "      <td>2</td>\n",
              "      <td>NaN</td>\n",
              "      <td>NaN</td>\n",
              "      <td>11</td>\n",
              "      <td>5</td>\n",
              "      <td>13</td>\n",
              "      <td>2</td>\n",
              "      <td>0</td>\n",
              "      <td>1</td>\n",
              "      <td>648</td>\n",
              "      <td>250</td>\n",
              "      <td>V27</td>\n",
              "      <td>6</td>\n",
              "      <td>None</td>\n",
              "      <td>None</td>\n",
              "      <td>No</td>\n",
              "      <td>No</td>\n",
              "      <td>No</td>\n",
              "      <td>No</td>\n",
              "      <td>No</td>\n",
              "      <td>No</td>\n",
              "      <td>Steady</td>\n",
              "      <td>No</td>\n",
              "      <td>No</td>\n",
              "      <td>No</td>\n",
              "      <td>No</td>\n",
              "      <td>No</td>\n",
              "      <td>No</td>\n",
              "      <td>No</td>\n",
              "      <td>No</td>\n",
              "      <td>No</td>\n",
              "      <td>No</td>\n",
              "      <td>No</td>\n",
              "      <td>No</td>\n",
              "      <td>No</td>\n",
              "      <td>No</td>\n",
              "      <td>No</td>\n",
              "      <td>No</td>\n",
              "      <td>No</td>\n",
              "      <td>Yes</td>\n",
              "      <td>NO</td>\n",
              "    </tr>\n",
              "    <tr>\n",
              "      <th>3</th>\n",
              "      <td>500364</td>\n",
              "      <td>82442376</td>\n",
              "      <td>Caucasian</td>\n",
              "      <td>Male</td>\n",
              "      <td>[30-40)</td>\n",
              "      <td>NaN</td>\n",
              "      <td>1</td>\n",
              "      <td>1</td>\n",
              "      <td>7</td>\n",
              "      <td>2</td>\n",
              "      <td>NaN</td>\n",
              "      <td>NaN</td>\n",
              "      <td>44</td>\n",
              "      <td>1</td>\n",
              "      <td>16</td>\n",
              "      <td>0</td>\n",
              "      <td>0</td>\n",
              "      <td>0</td>\n",
              "      <td>8</td>\n",
              "      <td>250.43</td>\n",
              "      <td>403</td>\n",
              "      <td>7</td>\n",
              "      <td>None</td>\n",
              "      <td>None</td>\n",
              "      <td>No</td>\n",
              "      <td>No</td>\n",
              "      <td>No</td>\n",
              "      <td>No</td>\n",
              "      <td>No</td>\n",
              "      <td>No</td>\n",
              "      <td>No</td>\n",
              "      <td>No</td>\n",
              "      <td>No</td>\n",
              "      <td>No</td>\n",
              "      <td>No</td>\n",
              "      <td>No</td>\n",
              "      <td>No</td>\n",
              "      <td>No</td>\n",
              "      <td>No</td>\n",
              "      <td>No</td>\n",
              "      <td>No</td>\n",
              "      <td>Up</td>\n",
              "      <td>No</td>\n",
              "      <td>No</td>\n",
              "      <td>No</td>\n",
              "      <td>No</td>\n",
              "      <td>No</td>\n",
              "      <td>Ch</td>\n",
              "      <td>Yes</td>\n",
              "      <td>NO</td>\n",
              "    </tr>\n",
              "    <tr>\n",
              "      <th>4</th>\n",
              "      <td>16680</td>\n",
              "      <td>42519267</td>\n",
              "      <td>Caucasian</td>\n",
              "      <td>Male</td>\n",
              "      <td>[40-50)</td>\n",
              "      <td>NaN</td>\n",
              "      <td>1</td>\n",
              "      <td>1</td>\n",
              "      <td>7</td>\n",
              "      <td>1</td>\n",
              "      <td>NaN</td>\n",
              "      <td>NaN</td>\n",
              "      <td>51</td>\n",
              "      <td>0</td>\n",
              "      <td>8</td>\n",
              "      <td>0</td>\n",
              "      <td>0</td>\n",
              "      <td>0</td>\n",
              "      <td>197</td>\n",
              "      <td>157</td>\n",
              "      <td>250</td>\n",
              "      <td>5</td>\n",
              "      <td>None</td>\n",
              "      <td>None</td>\n",
              "      <td>No</td>\n",
              "      <td>No</td>\n",
              "      <td>No</td>\n",
              "      <td>No</td>\n",
              "      <td>No</td>\n",
              "      <td>No</td>\n",
              "      <td>Steady</td>\n",
              "      <td>No</td>\n",
              "      <td>No</td>\n",
              "      <td>No</td>\n",
              "      <td>No</td>\n",
              "      <td>No</td>\n",
              "      <td>No</td>\n",
              "      <td>No</td>\n",
              "      <td>No</td>\n",
              "      <td>No</td>\n",
              "      <td>No</td>\n",
              "      <td>Steady</td>\n",
              "      <td>No</td>\n",
              "      <td>No</td>\n",
              "      <td>No</td>\n",
              "      <td>No</td>\n",
              "      <td>No</td>\n",
              "      <td>Ch</td>\n",
              "      <td>Yes</td>\n",
              "      <td>NO</td>\n",
              "    </tr>\n",
              "  </tbody>\n",
              "</table>\n",
              "</div>"
            ],
            "text/plain": [
              "   encounter_id  patient_nbr             race  ... change diabetesMed readmitted\n",
              "0       2278392      8222157        Caucasian  ...     No          No         NO\n",
              "1        149190     55629189        Caucasian  ...     Ch         Yes        >30\n",
              "2         64410     86047875  AfricanAmerican  ...     No         Yes         NO\n",
              "3        500364     82442376        Caucasian  ...     Ch         Yes         NO\n",
              "4         16680     42519267        Caucasian  ...     Ch         Yes         NO\n",
              "\n",
              "[5 rows x 50 columns]"
            ]
          },
          "metadata": {
            "tags": []
          },
          "execution_count": 1479
        }
      ]
    },
    {
      "cell_type": "markdown",
      "metadata": {
        "id": "tIInk-Qa8w1B"
      },
      "source": [
        "# EDA"
      ]
    },
    {
      "cell_type": "code",
      "metadata": {
        "id": "x10BWmfUNuy0"
      },
      "source": [
        "sns.set(rc={'axes.facecolor':'lightgrey', 'figure.facecolor':'lightgrey'},) #background color"
      ],
      "execution_count": 1480,
      "outputs": []
    },
    {
      "cell_type": "markdown",
      "metadata": {
        "id": "G3rmL0JMSDXm"
      },
      "source": [
        "### HeatMap of our null data\r\n",
        "-- Gives us some pointers on how to start tackling our data. "
      ]
    },
    {
      "cell_type": "code",
      "metadata": {
        "colab": {
          "base_uri": "https://localhost:8080/",
          "height": 0
        },
        "id": "pUguSNVfMhAy",
        "outputId": "4c8b59ac-6949-4a9a-a268-1a4ea7edab9b"
      },
      "source": [
        "sns.heatmap(df.isnull(), yticklabels=False, cbar=False, cmap='viridis')"
      ],
      "execution_count": 1481,
      "outputs": [
        {
          "output_type": "execute_result",
          "data": {
            "text/plain": [
              "<matplotlib.axes._subplots.AxesSubplot at 0x7f92f3f19f28>"
            ]
          },
          "metadata": {
            "tags": []
          },
          "execution_count": 1481
        },
        {
          "output_type": "display_data",
          "data": {
            "image/png": "[encoded data removed]",
            "text/plain": [
              "<Figure size 432x288 with 1 Axes>"
            ]
          },
          "metadata": {
            "tags": []
          }
        }
      ]
    },
    {
      "cell_type": "markdown",
      "metadata": {
        "id": "PaNrNU7wSfnR"
      },
      "source": [
        "### Counting Readmissions\r\n",
        "--Comparing the patients who were readmitted. About 53%, of patients don't need to be readmitted, about 35% return after 30 days."
      ]
    },
    {
      "cell_type": "code",
      "metadata": {
        "colab": {
          "base_uri": "https://localhost:8080/",
          "height": 0
        },
        "id": "OkIOY6oBNKGc",
        "outputId": "aaf21c13-3890-44da-8b8a-de59c5c0f681"
      },
      "source": [
        "sns.countplot(data=df,x=df['readmitted'],order=['NO','<30','>30'])"
      ],
      "execution_count": 1482,
      "outputs": [
        {
          "output_type": "execute_result",
          "data": {
            "text/plain": [
              "<matplotlib.axes._subplots.AxesSubplot at 0x7f92f3e5e0b8>"
            ]
          },
          "metadata": {
            "tags": []
          },
          "execution_count": 1482
        },
        {
          "output_type": "display_data",
          "data": {
            "image/png": "[encoded data removed]",
            "text/plain": [
              "<Figure size 432x288 with 1 Axes>"
            ]
          },
          "metadata": {
            "tags": []
          }
        }
      ]
    },
    {
      "cell_type": "markdown",
      "metadata": {
        "id": "rn5cXLSCIR9d"
      },
      "source": [
        "### Number of Diagnoses vs.Time spent in the hospital. \r\n",
        "-- Seems to indicate that those who have more diagnoses tend to have longer stays in the hospital. The means of each category corrolated with more time in the hospital. For some reason there is a dip between 10-12 diagnoses."
      ]
    },
    {
      "cell_type": "code",
      "metadata": {
        "colab": {
          "base_uri": "https://localhost:8080/",
          "height": 303
        },
        "id": "JHu7WJNL9fCi",
        "outputId": "47252a8d-49fe-4198-dcb9-cf6d95f51cea"
      },
      "source": [
        "sns.boxplot(x='readmitted', y='time_in_hospital', data=df,showmeans=True)"
      ],
      "execution_count": 1483,
      "outputs": [
        {
          "output_type": "execute_result",
          "data": {
            "text/plain": [
              "<matplotlib.axes._subplots.AxesSubplot at 0x7f92f3e22a20>"
            ]
          },
          "metadata": {
            "tags": []
          },
          "execution_count": 1483
        },
        {
          "output_type": "display_data",
          "data": {
            "image/png": "[encoded data removed]",
            "text/plain": [
              "<Figure size 432x288 with 1 Axes>"
            ]
          },
          "metadata": {
            "tags": []
          }
        }
      ]
    },
    {
      "cell_type": "markdown",
      "metadata": {
        "id": "-8OlVQ1OS3Yk"
      },
      "source": [
        "### Age \r\n",
        "-- It seems those in older age groups are more likely to have longer stays in the hospital."
      ]
    },
    {
      "cell_type": "code",
      "metadata": {
        "colab": {
          "base_uri": "https://localhost:8080/",
          "height": 0
        },
        "id": "Deo0cqxSJFZF",
        "outputId": "f054d127-5a6a-4307-8ee2-51b9e2bbeab8"
      },
      "source": [
        "sns.boxplot(x='age', y='time_in_hospital', data=df,showmeans=True)\r\n"
      ],
      "execution_count": 1484,
      "outputs": [
        {
          "output_type": "execute_result",
          "data": {
            "text/plain": [
              "<matplotlib.axes._subplots.AxesSubplot at 0x7f92f3d41828>"
            ]
          },
          "metadata": {
            "tags": []
          },
          "execution_count": 1484
        },
        {
          "output_type": "display_data",
          "data": {
            "image/png": "[encoded data removed]",
            "text/plain": [
              "<Figure size 432x288 with 1 Axes>"
            ]
          },
          "metadata": {
            "tags": []
          }
        }
      ]
    },
    {
      "cell_type": "markdown",
      "metadata": {
        "id": "D6PmUTW7bW3I"
      },
      "source": [
        "### Gender\r\n",
        "-- Have to conclude that time spent in hospital and number of diagnoses is independent of gender. So it's probably that readmissions will also be independent."
      ]
    },
    {
      "cell_type": "code",
      "metadata": {
        "id": "X4hsdZGJim-p"
      },
      "source": [
        "df['gender'].replace({'Unknown/Invalid': 'Female'}, regex=True,inplace=True) #only doing this to fix 3 values in 100,000. Dataset is about 55% female so I chose female."
      ],
      "execution_count": 1485,
      "outputs": []
    },
    {
      "cell_type": "code",
      "metadata": {
        "colab": {
          "base_uri": "https://localhost:8080/",
          "height": 0
        },
        "id": "kuNBgMj-X374",
        "outputId": "3496ac58-b172-4dea-d9f9-be2a0f3d5212"
      },
      "source": [
        "sns.boxplot(x='gender', y='time_in_hospital', data=df,showmeans=True) #dont see a big correlation for gender."
      ],
      "execution_count": 1486,
      "outputs": [
        {
          "output_type": "execute_result",
          "data": {
            "text/plain": [
              "<matplotlib.axes._subplots.AxesSubplot at 0x7f92f3db64a8>"
            ]
          },
          "metadata": {
            "tags": []
          },
          "execution_count": 1486
        },
        {
          "output_type": "display_data",
          "data": {
            "image/png": "[encoded data removed]",
            "text/plain": [
              "<Figure size 432x288 with 1 Axes>"
            ]
          },
          "metadata": {
            "tags": []
          }
        }
      ]
    },
    {
      "cell_type": "code",
      "metadata": {
        "colab": {
          "base_uri": "https://localhost:8080/",
          "height": 0
        },
        "id": "QmrjmnOQjKJh",
        "outputId": "b00bb77b-d520-404d-fedc-79fd0ec7de4d"
      },
      "source": [
        "sns.boxplot(x='gender',y='number_diagnoses',data=df,showmeans=True)"
      ],
      "execution_count": 1487,
      "outputs": [
        {
          "output_type": "execute_result",
          "data": {
            "text/plain": [
              "<matplotlib.axes._subplots.AxesSubplot at 0x7f92f3c4a748>"
            ]
          },
          "metadata": {
            "tags": []
          },
          "execution_count": 1487
        },
        {
          "output_type": "display_data",
          "data": {
            "image/png": "[encoded data removed]",
            "text/plain": [
              "<Figure size 432x288 with 1 Axes>"
            ]
          },
          "metadata": {
            "tags": []
          }
        }
      ]
    },
    {
      "cell_type": "markdown",
      "metadata": {
        "id": "r3v8UR1XbbKp"
      },
      "source": [
        "### Race\r\n",
        "-- like gender, race also seems to not be a big factor. looks evenly distributed along this."
      ]
    },
    {
      "cell_type": "code",
      "metadata": {
        "colab": {
          "base_uri": "https://localhost:8080/",
          "height": 303
        },
        "id": "c_4yghZLX6RM",
        "outputId": "38645e5f-9323-4dbe-e384-6dc427108a48"
      },
      "source": [
        "sns.boxplot(x='race', y='time_in_hospital', data=df,showmeans=True)\r\n"
      ],
      "execution_count": 1488,
      "outputs": [
        {
          "output_type": "execute_result",
          "data": {
            "text/plain": [
              "<matplotlib.axes._subplots.AxesSubplot at 0x7f92f3b76630>"
            ]
          },
          "metadata": {
            "tags": []
          },
          "execution_count": 1488
        },
        {
          "output_type": "display_data",
          "data": {
            "image/png": "[encoded data removed]",
            "text/plain": [
              "<Figure size 432x288 with 1 Axes>"
            ]
          },
          "metadata": {
            "tags": []
          }
        }
      ]
    },
    {
      "cell_type": "code",
      "metadata": {
        "colab": {
          "base_uri": "https://localhost:8080/",
          "height": 303
        },
        "id": "KuDysQnWnv9T",
        "outputId": "41667219-67af-49e4-9224-160422b933cb"
      },
      "source": [
        "sns.boxplot(x='race', y='number_diagnoses', data=df,showmeans=True)\r\n"
      ],
      "execution_count": 1489,
      "outputs": [
        {
          "output_type": "execute_result",
          "data": {
            "text/plain": [
              "<matplotlib.axes._subplots.AxesSubplot at 0x7f92f3bfc048>"
            ]
          },
          "metadata": {
            "tags": []
          },
          "execution_count": 1489
        },
        {
          "output_type": "display_data",
          "data": {
            "image/png": "[encoded data removed]",
            "text/plain": [
              "<Figure size 432x288 with 1 Axes>"
            ]
          },
          "metadata": {
            "tags": []
          }
        }
      ]
    },
    {
      "cell_type": "markdown",
      "metadata": {
        "id": "M-iqckNvUd7J"
      },
      "source": [
        "# Data Cleaning"
      ]
    },
    {
      "cell_type": "markdown",
      "metadata": {
        "id": "kw2jYJZAqN7u"
      },
      "source": [
        "## First DF"
      ]
    },
    {
      "cell_type": "markdown",
      "metadata": {
        "id": "kmSzRBbZpwLo"
      },
      "source": [
        "### Dropping some columns we know we won't use"
      ]
    },
    {
      "cell_type": "code",
      "metadata": {
        "id": "PYaSe7_tWEVf"
      },
      "source": [
        "df.drop(['encounter_id','patient_nbr','weight','payer_code','medical_specialty','diag_1','diag_2','diag_3',],axis=1,inplace=True) "
      ],
      "execution_count": 1491,
      "outputs": []
    },
    {
      "cell_type": "code",
      "metadata": {
        "id": "acgAx7V2ggob"
      },
      "source": [
        "df.drop(['admission_type_id','discharge_disposition_id','admission_source_id','max_glu_serum','A1Cresult','metformin','repaglinide','nateglinide'],axis=1,inplace=True)"
      ],
      "execution_count": 1492,
      "outputs": []
    },
    {
      "cell_type": "code",
      "metadata": {
        "id": "TJzz1rk2hw5M"
      },
      "source": [
        "#these drugs all had very few values , about 100 or less. in a dataset of 100k that is miniscule and could sway data\r\n",
        "df.drop(['chlorpropamide','acetohexamide', 'tolbutamide','acarbose','miglitol','troglitazone','tolazamide','examide','citoglipton','glyburide-metformin','glipizide-metformin','glimepiride-pioglitazone','metformin-rosiglitazone','metformin-pioglitazone'],axis=1,inplace=True)"
      ],
      "execution_count": 1493,
      "outputs": []
    },
    {
      "cell_type": "code",
      "metadata": {
        "id": "lqRrXacEpV-N"
      },
      "source": [
        "#df2 is used for an attempt with different numbers\r\n",
        "df2 = df.copy()"
      ],
      "execution_count": 1494,
      "outputs": []
    },
    {
      "cell_type": "code",
      "metadata": {
        "id": "qsHhSawUCsqy"
      },
      "source": [
        "df.drop(['change','number_outpatient', \t'number_emergency', 'number_inpatient'],axis=1,inplace=True)"
      ],
      "execution_count": 1495,
      "outputs": []
    },
    {
      "cell_type": "code",
      "metadata": {
        "id": "jlcB_oDyjplf"
      },
      "source": [
        "#these drugs had about 5000 or more non-NOs so\r\n",
        "df.drop(['glimepiride', \t'glipizide', \t'glyburide', \t'pioglitazone', \t'rosiglitazone'],axis=1,inplace=True)"
      ],
      "execution_count": 1496,
      "outputs": []
    },
    {
      "cell_type": "markdown",
      "metadata": {
        "id": "dXRvQ5vQpzZG"
      },
      "source": [
        "### Fixing the null values in race column"
      ]
    },
    {
      "cell_type": "code",
      "metadata": {
        "id": "LAU-OlAMWgbV"
      },
      "source": [
        "df['race'].fillna('Other',inplace=True) #fixing NA values in race"
      ],
      "execution_count": 1497,
      "outputs": []
    },
    {
      "cell_type": "code",
      "metadata": {
        "id": "oEYWS7yIaLVJ"
      },
      "source": [
        "df.replace({'Caucasian': '1'}, regex=True,inplace=True) #resaving the races as numeric values for comparisons\r\n",
        "df.replace({'AfricanAmerican': '2'}, regex=True,inplace=True)\r\n",
        "df.replace({'Asian': '3'}, regex=True,inplace=True)\r\n",
        "df.replace({'Hispanic': '4'}, regex=True,inplace=True)\r\n",
        "df.replace({'Other': '5'}, regex=True,inplace=True)\r\n"
      ],
      "execution_count": 1498,
      "outputs": []
    },
    {
      "cell_type": "markdown",
      "metadata": {
        "id": "xR78CGWrqJBs"
      },
      "source": [
        "### Setting the age column to numeric values"
      ]
    },
    {
      "cell_type": "code",
      "metadata": {
        "id": "_QD26UAadjIf"
      },
      "source": [
        "df.replace({'\\[0-10\\)': '0'}, regex=True,inplace=True) #resaving the age as numeric values for comparisons\r\n",
        "df.replace({'\\[10-20\\)': '1'}, regex=True,inplace=True)\r\n",
        "df.replace({'\\[20-30\\)': '2'}, regex=True,inplace=True)\r\n",
        "df.replace({'\\[30-40\\)': '3'}, regex=True,inplace=True)\r\n",
        "df.replace({'\\[40-50\\)': '4'}, regex=True,inplace=True)\r\n",
        "df.replace({'\\[50-60\\)': '5'}, regex=True,inplace=True)\r\n",
        "df.replace({'\\[60-70\\)': '6'}, regex=True,inplace=True)\r\n",
        "df.replace({'\\[70-80\\)': '7'}, regex=True,inplace=True)\r\n",
        "df.replace({'\\[80-90\\)': '8'}, regex=True,inplace=True)\r\n",
        "df.replace({'\\[90-100\\)': '9'}, regex=True,inplace=True)"
      ],
      "execution_count": 1499,
      "outputs": []
    },
    {
      "cell_type": "markdown",
      "metadata": {
        "id": "ra7zImRKqQia"
      },
      "source": [
        "### Fixing the gender column to dummy numeric values"
      ]
    },
    {
      "cell_type": "code",
      "metadata": {
        "id": "MXqfJPzcDhI_"
      },
      "source": [
        "sex = pd.get_dummies(df['gender'], drop_first=True)\r\n",
        "df = pd.concat([df,sex ],axis=1)"
      ],
      "execution_count": 1500,
      "outputs": []
    },
    {
      "cell_type": "code",
      "metadata": {
        "id": "TDAkPX7bfRaO"
      },
      "source": [
        "df.drop('gender',axis=1,inplace=True)"
      ],
      "execution_count": 1501,
      "outputs": []
    },
    {
      "cell_type": "markdown",
      "metadata": {
        "id": "CC-6oDkKqcr4"
      },
      "source": [
        "### Fixing diabetes Medication column to dummy numeric values"
      ]
    },
    {
      "cell_type": "code",
      "metadata": {
        "id": "eU8EFj1CkKaU"
      },
      "source": [
        "diabmed = pd.get_dummies(df['diabetesMed'], drop_first=True)\r\n",
        "df = pd.concat([df,diabmed ],axis=1)\r\n",
        "df.drop('diabetesMed',axis=1,inplace=True)\r\n",
        "df.rename(columns={'Yes':'Diabetes Med'},inplace=True)"
      ],
      "execution_count": 1502,
      "outputs": []
    },
    {
      "cell_type": "markdown",
      "metadata": {
        "id": "eSP7KTKMqip-"
      },
      "source": [
        "### Fixing readmission column to numeric values"
      ]
    },
    {
      "cell_type": "code",
      "metadata": {
        "id": "_ZrAMpellhTg"
      },
      "source": [
        "df.replace({'NO': '0'}, regex=True,inplace=True) #resaving the age as numeric values for comparisons\r\n",
        "df.replace({'<30': '1'}, regex=True,inplace=True)\r\n",
        "df.replace({'>30': '2'}, regex=True,inplace=True)\r\n",
        "\r\n"
      ],
      "execution_count": 1503,
      "outputs": []
    },
    {
      "cell_type": "markdown",
      "metadata": {
        "id": "6UHfvYLZDv8Z"
      },
      "source": [
        "### trying out change column"
      ]
    },
    {
      "cell_type": "markdown",
      "metadata": {
        "id": "lBMXRhb_cgWi"
      },
      "source": [
        "### fixing insulin for DF"
      ]
    },
    {
      "cell_type": "code",
      "metadata": {
        "id": "0DTE5VqUcfcp"
      },
      "source": [
        "df['insulin'].replace({'No': '0'}, regex=True,inplace=True) #if their insulin isnt a problem today, it might not be a problem within 30 days\r\n",
        "df['insulin'].replace({'Steady': '0'}, regex=True,inplace=True)\r\n",
        "df['insulin'].replace({'Down': '1'}, regex=True,inplace=True)\r\n",
        "df['insulin'].replace({'Up': '1'}, regex=True,inplace=True)"
      ],
      "execution_count": 1504,
      "outputs": []
    },
    {
      "cell_type": "markdown",
      "metadata": {
        "id": "P5koRU7KlDPH"
      },
      "source": [
        "### set all values to numeric"
      ]
    },
    {
      "cell_type": "code",
      "metadata": {
        "colab": {
          "base_uri": "https://localhost:8080/"
        },
        "id": "oxtaa5IoICYn",
        "outputId": "f4057ca6-212c-44a5-fdea-82160cb69526"
      },
      "source": [
        "for column in df:\r\n",
        "  pd.to_numeric(df[column])\r\n",
        "  print (df[column].dtype)"
      ],
      "execution_count": 1505,
      "outputs": [
        {
          "output_type": "stream",
          "text": [
            "object\n",
            "object\n",
            "int64\n",
            "int64\n",
            "int64\n",
            "int64\n",
            "int64\n",
            "object\n",
            "object\n",
            "uint8\n",
            "uint8\n"
          ],
          "name": "stdout"
        }
      ]
    },
    {
      "cell_type": "markdown",
      "metadata": {
        "id": "YjTh7K3dplMC"
      },
      "source": [
        "## Second DF"
      ]
    },
    {
      "cell_type": "markdown",
      "metadata": {
        "id": "JwOUiFM9bWT6"
      },
      "source": [
        "### editing some cols based on first df"
      ]
    },
    {
      "cell_type": "code",
      "metadata": {
        "id": "q1sYrj64pqWI"
      },
      "source": [
        "#df2 independent variables:\r\n",
        "# 1. time_in_hospital\r\n",
        "# 2. num_lab_procedures\r\n",
        "# 3. num_procedures\r\n",
        "# 4. num_medications\r\n",
        "# 5. number_diagnoses\r\n",
        "# 6. diabetes med\r\n",
        "# 7. \r\n",
        "\r\n",
        "#dependent variable:\r\n",
        "#readmitted\r\n",
        "df2['readmitted'] = df['readmitted']\r\n",
        "df2['age'] = df['age']\r\n",
        "\r\n",
        "##more stuff dropping last minute\r\n",
        "\r\n",
        "df2.drop(['num_lab_procedures','glimepiride','glipizide','glyburide','pioglitazone','rosiglitazone'],axis=1,inplace=True)\r\n",
        "df2.drop('race',axis=1,inplace=True)\r\n",
        "df2.drop('gender',axis=1,inplace=True)\r\n",
        "df2.drop(['diabetesMed'],axis=1,inplace=True)\r\n",
        "#df2['race'] = df['race']\r\n"
      ],
      "execution_count": 1506,
      "outputs": []
    },
    {
      "cell_type": "markdown",
      "metadata": {
        "id": "dwxtHUJGqFgD"
      },
      "source": [
        "### patient drugs\r\n"
      ]
    },
    {
      "cell_type": "code",
      "metadata": {
        "id": "tRQ1ncOEqJ6x"
      },
      "source": [
        "df2.replace({'No': '0'}, regex=True,inplace=True) #if their insulin isnt a problem today, it might not be a problem within 30 days\r\n",
        "df2.replace({'Steady': '1'}, regex=True,inplace=True)\r\n",
        "df2.replace({'Down': '1'}, regex=True,inplace=True)\r\n",
        "df2.replace({'Up': '1'}, regex=True,inplace=True)\r\n",
        "\r\n",
        "#only if you want to test a few things\r\n",
        "#df2.drop(['glimepiride', \t'glipizide', \t'glyburide', \t'pioglitazone', \t'rosiglitazone'],axis=1,inplace=True)"
      ],
      "execution_count": 1507,
      "outputs": []
    },
    {
      "cell_type": "markdown",
      "metadata": {
        "id": "HOjZpyvvJZBY"
      },
      "source": [
        "### fixing the change column"
      ]
    },
    {
      "cell_type": "code",
      "metadata": {
        "id": "Om75eRPyDu-O"
      },
      "source": [
        "df2['change'].replace({'No':'0'},regex=True,inplace=True)\r\n",
        "df2['change'].replace({'Ch':'1'},regex=True,inplace=True)\r\n"
      ],
      "execution_count": 1508,
      "outputs": []
    },
    {
      "cell_type": "markdown",
      "metadata": {
        "id": "A4MDXUtiXKU_"
      },
      "source": [
        ""
      ]
    },
    {
      "cell_type": "code",
      "metadata": {
        "id": "FmR8v7f_TpE3"
      },
      "source": [
        "#df2.replace({'Yes':'1','No':'2'},regex=True,inplace=True)"
      ],
      "execution_count": 1509,
      "outputs": []
    },
    {
      "cell_type": "markdown",
      "metadata": {
        "id": "XFphY1CVlp_2"
      },
      "source": [
        "###  setting values to numeric in df2"
      ]
    },
    {
      "cell_type": "code",
      "metadata": {
        "id": "vWcHZbZAIAXg"
      },
      "source": [
        "for column in df2: #making sure everything is numeric digits that can be computed\r\n",
        "  pd.to_numeric(df2[column])"
      ],
      "execution_count": 1510,
      "outputs": []
    },
    {
      "cell_type": "markdown",
      "metadata": {
        "id": "ZdldeoOpwk-g"
      },
      "source": [
        "### fixing admission values for df2 (3 values"
      ]
    },
    {
      "cell_type": "code",
      "metadata": {
        "id": "UdFBeDAUwn4D"
      },
      "source": [
        "df2.replace({'NO': '0'}, regex=True,inplace=True) #resaving the age as numeric values for comparisons\r\n",
        "df2.replace({'<30': '1'}, regex=True,inplace=True)\r\n",
        "df2.replace({'>30': '2'}, regex=True,inplace=True)"
      ],
      "execution_count": 1511,
      "outputs": []
    },
    {
      "cell_type": "markdown",
      "metadata": {
        "id": "SxQ_3MEjsjzU"
      },
      "source": [
        "# Model Building and Evaluation"
      ]
    },
    {
      "cell_type": "code",
      "metadata": {
        "id": "TzcpT-GPMmMA"
      },
      "source": [
        "ds = df\r\n",
        "ds2 = df2\r\n"
      ],
      "execution_count": 1512,
      "outputs": []
    },
    {
      "cell_type": "code",
      "metadata": {
        "colab": {
          "base_uri": "https://localhost:8080/",
          "height": 206
        },
        "id": "wPJzdMRsW6pH",
        "outputId": "2a19b41b-4744-47fa-d5ad-6931f1e339de"
      },
      "source": [
        "df.head()"
      ],
      "execution_count": 1513,
      "outputs": [
        {
          "output_type": "execute_result",
          "data": {
            "text/html": [
              "<div>\n",
              "<style scoped>\n",
              "    .dataframe tbody tr th:only-of-type {\n",
              "        vertical-align: middle;\n",
              "    }\n",
              "\n",
              "    .dataframe tbody tr th {\n",
              "        vertical-align: top;\n",
              "    }\n",
              "\n",
              "    .dataframe thead th {\n",
              "        text-align: right;\n",
              "    }\n",
              "</style>\n",
              "<table border=\"1\" class=\"dataframe\">\n",
              "  <thead>\n",
              "    <tr style=\"text-align: right;\">\n",
              "      <th></th>\n",
              "      <th>race</th>\n",
              "      <th>age</th>\n",
              "      <th>time_in_hospital</th>\n",
              "      <th>num_lab_procedures</th>\n",
              "      <th>num_procedures</th>\n",
              "      <th>num_medications</th>\n",
              "      <th>number_diagnoses</th>\n",
              "      <th>insulin</th>\n",
              "      <th>readmitted</th>\n",
              "      <th>Male</th>\n",
              "      <th>Diabetes Med</th>\n",
              "    </tr>\n",
              "  </thead>\n",
              "  <tbody>\n",
              "    <tr>\n",
              "      <th>0</th>\n",
              "      <td>1</td>\n",
              "      <td>0</td>\n",
              "      <td>1</td>\n",
              "      <td>41</td>\n",
              "      <td>0</td>\n",
              "      <td>1</td>\n",
              "      <td>1</td>\n",
              "      <td>0</td>\n",
              "      <td>0</td>\n",
              "      <td>0</td>\n",
              "      <td>0</td>\n",
              "    </tr>\n",
              "    <tr>\n",
              "      <th>1</th>\n",
              "      <td>1</td>\n",
              "      <td>1</td>\n",
              "      <td>3</td>\n",
              "      <td>59</td>\n",
              "      <td>0</td>\n",
              "      <td>18</td>\n",
              "      <td>9</td>\n",
              "      <td>1</td>\n",
              "      <td>2</td>\n",
              "      <td>0</td>\n",
              "      <td>1</td>\n",
              "    </tr>\n",
              "    <tr>\n",
              "      <th>2</th>\n",
              "      <td>2</td>\n",
              "      <td>2</td>\n",
              "      <td>2</td>\n",
              "      <td>11</td>\n",
              "      <td>5</td>\n",
              "      <td>13</td>\n",
              "      <td>6</td>\n",
              "      <td>0</td>\n",
              "      <td>0</td>\n",
              "      <td>0</td>\n",
              "      <td>1</td>\n",
              "    </tr>\n",
              "    <tr>\n",
              "      <th>3</th>\n",
              "      <td>1</td>\n",
              "      <td>3</td>\n",
              "      <td>2</td>\n",
              "      <td>44</td>\n",
              "      <td>1</td>\n",
              "      <td>16</td>\n",
              "      <td>7</td>\n",
              "      <td>1</td>\n",
              "      <td>0</td>\n",
              "      <td>1</td>\n",
              "      <td>1</td>\n",
              "    </tr>\n",
              "    <tr>\n",
              "      <th>4</th>\n",
              "      <td>1</td>\n",
              "      <td>4</td>\n",
              "      <td>1</td>\n",
              "      <td>51</td>\n",
              "      <td>0</td>\n",
              "      <td>8</td>\n",
              "      <td>5</td>\n",
              "      <td>0</td>\n",
              "      <td>0</td>\n",
              "      <td>1</td>\n",
              "      <td>1</td>\n",
              "    </tr>\n",
              "  </tbody>\n",
              "</table>\n",
              "</div>"
            ],
            "text/plain": [
              "  race age  time_in_hospital  ...  readmitted  Male  Diabetes Med\n",
              "0    1   0                 1  ...           0     0             0\n",
              "1    1   1                 3  ...           2     0             1\n",
              "2    2   2                 2  ...           0     0             1\n",
              "3    1   3                 2  ...           0     1             1\n",
              "4    1   4                 1  ...           0     1             1\n",
              "\n",
              "[5 rows x 11 columns]"
            ]
          },
          "metadata": {
            "tags": []
          },
          "execution_count": 1513
        }
      ]
    },
    {
      "cell_type": "code",
      "metadata": {
        "colab": {
          "base_uri": "https://localhost:8080/",
          "height": 206
        },
        "id": "s0e-DzR1W7xm",
        "outputId": "4cdca28f-87a8-4496-81c4-869b19c37b93"
      },
      "source": [
        "df2.head()"
      ],
      "execution_count": 1514,
      "outputs": [
        {
          "output_type": "execute_result",
          "data": {
            "text/html": [
              "<div>\n",
              "<style scoped>\n",
              "    .dataframe tbody tr th:only-of-type {\n",
              "        vertical-align: middle;\n",
              "    }\n",
              "\n",
              "    .dataframe tbody tr th {\n",
              "        vertical-align: top;\n",
              "    }\n",
              "\n",
              "    .dataframe thead th {\n",
              "        text-align: right;\n",
              "    }\n",
              "</style>\n",
              "<table border=\"1\" class=\"dataframe\">\n",
              "  <thead>\n",
              "    <tr style=\"text-align: right;\">\n",
              "      <th></th>\n",
              "      <th>age</th>\n",
              "      <th>time_in_hospital</th>\n",
              "      <th>num_procedures</th>\n",
              "      <th>num_medications</th>\n",
              "      <th>number_outpatient</th>\n",
              "      <th>number_emergency</th>\n",
              "      <th>number_inpatient</th>\n",
              "      <th>number_diagnoses</th>\n",
              "      <th>insulin</th>\n",
              "      <th>change</th>\n",
              "      <th>readmitted</th>\n",
              "    </tr>\n",
              "  </thead>\n",
              "  <tbody>\n",
              "    <tr>\n",
              "      <th>0</th>\n",
              "      <td>0</td>\n",
              "      <td>1</td>\n",
              "      <td>0</td>\n",
              "      <td>1</td>\n",
              "      <td>0</td>\n",
              "      <td>0</td>\n",
              "      <td>0</td>\n",
              "      <td>1</td>\n",
              "      <td>0</td>\n",
              "      <td>0</td>\n",
              "      <td>0</td>\n",
              "    </tr>\n",
              "    <tr>\n",
              "      <th>1</th>\n",
              "      <td>1</td>\n",
              "      <td>3</td>\n",
              "      <td>0</td>\n",
              "      <td>18</td>\n",
              "      <td>0</td>\n",
              "      <td>0</td>\n",
              "      <td>0</td>\n",
              "      <td>9</td>\n",
              "      <td>1</td>\n",
              "      <td>1</td>\n",
              "      <td>2</td>\n",
              "    </tr>\n",
              "    <tr>\n",
              "      <th>2</th>\n",
              "      <td>2</td>\n",
              "      <td>2</td>\n",
              "      <td>5</td>\n",
              "      <td>13</td>\n",
              "      <td>2</td>\n",
              "      <td>0</td>\n",
              "      <td>1</td>\n",
              "      <td>6</td>\n",
              "      <td>0</td>\n",
              "      <td>0</td>\n",
              "      <td>0</td>\n",
              "    </tr>\n",
              "    <tr>\n",
              "      <th>3</th>\n",
              "      <td>3</td>\n",
              "      <td>2</td>\n",
              "      <td>1</td>\n",
              "      <td>16</td>\n",
              "      <td>0</td>\n",
              "      <td>0</td>\n",
              "      <td>0</td>\n",
              "      <td>7</td>\n",
              "      <td>1</td>\n",
              "      <td>1</td>\n",
              "      <td>0</td>\n",
              "    </tr>\n",
              "    <tr>\n",
              "      <th>4</th>\n",
              "      <td>4</td>\n",
              "      <td>1</td>\n",
              "      <td>0</td>\n",
              "      <td>8</td>\n",
              "      <td>0</td>\n",
              "      <td>0</td>\n",
              "      <td>0</td>\n",
              "      <td>5</td>\n",
              "      <td>1</td>\n",
              "      <td>1</td>\n",
              "      <td>0</td>\n",
              "    </tr>\n",
              "  </tbody>\n",
              "</table>\n",
              "</div>"
            ],
            "text/plain": [
              "  age  time_in_hospital  num_procedures  ...  insulin  change  readmitted\n",
              "0   0                 1               0  ...        0       0           0\n",
              "1   1                 3               0  ...        1       1           2\n",
              "2   2                 2               5  ...        0       0           0\n",
              "3   3                 2               1  ...        1       1           0\n",
              "4   4                 1               0  ...        1       1           0\n",
              "\n",
              "[5 rows x 11 columns]"
            ]
          },
          "metadata": {
            "tags": []
          },
          "execution_count": 1514
        }
      ]
    },
    {
      "cell_type": "markdown",
      "metadata": {
        "id": "cJdppNc63qUQ"
      },
      "source": [
        "## Test with df"
      ]
    },
    {
      "cell_type": "code",
      "metadata": {
        "id": "rK3RL4dMVo69"
      },
      "source": [
        "x = ds.drop('readmitted',axis=1)\r\n",
        "y = ds['readmitted']\r\n",
        "X_train, X_test, y_train, y_test = train_test_split(x,y,test_size=0.25, random_state=101) "
      ],
      "execution_count": 1515,
      "outputs": []
    },
    {
      "cell_type": "code",
      "metadata": {
        "id": "4tnq-RQ8JPYl"
      },
      "source": [
        "sc = StandardScaler()\r\n",
        "X_train = sc.fit_transform(X_train)\r\n",
        "X_test = sc.transform(X_test)"
      ],
      "execution_count": 1516,
      "outputs": []
    },
    {
      "cell_type": "markdown",
      "metadata": {
        "id": "GmgKkIfDuOGH"
      },
      "source": [
        "### log model"
      ]
    },
    {
      "cell_type": "code",
      "metadata": {
        "id": "METFashRM4fY"
      },
      "source": [
        "logmodel = LogisticRegression(class_weight='balanced')\r\n",
        "logmodel.fit(X_train, y_train)\r\n",
        "logpredict = logmodel.predict(X_test)"
      ],
      "execution_count": 1517,
      "outputs": []
    },
    {
      "cell_type": "code",
      "metadata": {
        "id": "E1lSLV9FM7pL",
        "colab": {
          "base_uri": "https://localhost:8080/"
        },
        "outputId": "2b9c1ea3-f973-4108-9b64-6895eefe4d37"
      },
      "source": [
        "\r\n",
        "print(classification_report(y_test,logpredict))\r\n",
        "print(confusion_matrix(y_test, logpredict))"
      ],
      "execution_count": 1518,
      "outputs": [
        {
          "output_type": "stream",
          "text": [
            "              precision    recall  f1-score   support\n",
            "\n",
            "           0       0.61      0.49      0.54     13741\n",
            "           1       0.14      0.36      0.20      2838\n",
            "           2       0.39      0.30      0.34      8863\n",
            "\n",
            "    accuracy                           0.41     25442\n",
            "   macro avg       0.38      0.38      0.36     25442\n",
            "weighted avg       0.48      0.41      0.43     25442\n",
            "\n",
            "[[6675 3693 3373]\n",
            " [1020 1034  784]\n",
            " [3315 2911 2637]]\n"
          ],
          "name": "stdout"
        }
      ]
    },
    {
      "cell_type": "markdown",
      "metadata": {
        "id": "JcJVMen9vGxF"
      },
      "source": [
        "### knn"
      ]
    },
    {
      "cell_type": "code",
      "metadata": {
        "id": "GRwjkJ2dvJT1"
      },
      "source": [
        "knnmodel = KNeighborsClassifier(n_neighbors=8)\r\n",
        "knnmodel.fit(X_train, y_train)\r\n",
        "y_pred = knnmodel.predict(X_test)"
      ],
      "execution_count": 1519,
      "outputs": []
    },
    {
      "cell_type": "code",
      "metadata": {
        "colab": {
          "base_uri": "https://localhost:8080/"
        },
        "id": "5olQsEzgvSy-",
        "outputId": "98a19a8d-42be-4306-b4e5-c10c25e43858"
      },
      "source": [
        "print(confusion_matrix(y_test, y_pred))\r\n",
        "print(\"\\n\")\r\n",
        "print(classification_report(y_test, y_pred))"
      ],
      "execution_count": 1520,
      "outputs": [
        {
          "output_type": "stream",
          "text": [
            "[[10551   278  2912]\n",
            " [ 2046    89   703]\n",
            " [ 6338   208  2317]]\n",
            "\n",
            "\n",
            "              precision    recall  f1-score   support\n",
            "\n",
            "           0       0.56      0.77      0.65     13741\n",
            "           1       0.15      0.03      0.05      2838\n",
            "           2       0.39      0.26      0.31      8863\n",
            "\n",
            "    accuracy                           0.51     25442\n",
            "   macro avg       0.37      0.35      0.34     25442\n",
            "weighted avg       0.45      0.51      0.46     25442\n",
            "\n"
          ],
          "name": "stdout"
        }
      ]
    },
    {
      "cell_type": "markdown",
      "metadata": {
        "id": "2eQDz0Q106Vt"
      },
      "source": [
        "### random forest model"
      ]
    },
    {
      "cell_type": "code",
      "metadata": {
        "colab": {
          "base_uri": "https://localhost:8080/"
        },
        "id": "1fZXWt771U_u",
        "outputId": "fc08ae63-2d00-49c3-aea5-2322d1542e35"
      },
      "source": [
        "rforestmodel = RandomForestClassifier(n_estimators=100,class_weight='balanced')\r\n",
        "# Fit on training data\r\n",
        "rforestmodel.fit(X_train, y_train)\r\n",
        "rforestpredict = rforestmodel.predict(X_test)\r\n",
        "print(confusion_matrix(y_test, rforestpredict))\r\n",
        "print(\"\\n\")\r\n",
        "print(classification_report(y_test, rforestpredict))"
      ],
      "execution_count": 1521,
      "outputs": [
        {
          "output_type": "stream",
          "text": [
            "[[10476   226  3039]\n",
            " [ 1989    89   760]\n",
            " [ 6174   210  2479]]\n",
            "\n",
            "\n",
            "              precision    recall  f1-score   support\n",
            "\n",
            "           0       0.56      0.76      0.65     13741\n",
            "           1       0.17      0.03      0.05      2838\n",
            "           2       0.39      0.28      0.33      8863\n",
            "\n",
            "    accuracy                           0.51     25442\n",
            "   macro avg       0.38      0.36      0.34     25442\n",
            "weighted avg       0.46      0.51      0.47     25442\n",
            "\n"
          ],
          "name": "stdout"
        }
      ]
    },
    {
      "cell_type": "markdown",
      "metadata": {
        "id": "CZDzqhm_3nuf"
      },
      "source": [
        "## Test with df2 (more quantitative predictors"
      ]
    },
    {
      "cell_type": "code",
      "metadata": {
        "id": "Q6eplMOBVfy9"
      },
      "source": [
        "y = ds2['readmitted']\r\n",
        "x = ds2.drop('readmitted',axis=1)\r\n",
        "X_train, X_test, y_train, y_test = train_test_split(x,y,test_size=0.3, random_state=101) "
      ],
      "execution_count": 1522,
      "outputs": []
    },
    {
      "cell_type": "code",
      "metadata": {
        "id": "b86DzhLg3uBI"
      },
      "source": [
        "sc = StandardScaler()\r\n",
        "X_train = sc.fit_transform(X_train)\r\n",
        "X_test = sc.transform(X_test)"
      ],
      "execution_count": 1523,
      "outputs": []
    },
    {
      "cell_type": "markdown",
      "metadata": {
        "id": "bIhN2ej8uKaA"
      },
      "source": [
        "### Log model"
      ]
    },
    {
      "cell_type": "code",
      "metadata": {
        "colab": {
          "base_uri": "https://localhost:8080/"
        },
        "id": "te2I81JD3wxE",
        "outputId": "9560ad74-0462-466c-ca39-e1b5f8dccd45"
      },
      "source": [
        "logmodel = LogisticRegression(class_weight='balanced')\r\n",
        "logmodel.fit(X_train, y_train)\r\n",
        "predict = logmodel.predict(X_test)\r\n",
        "print(classification_report(y_test,predict))\r\n",
        "print(\"\\n\")\r\n",
        "print(confusion_matrix(y_test, predict))"
      ],
      "execution_count": 1524,
      "outputs": [
        {
          "output_type": "stream",
          "text": [
            "              precision    recall  f1-score   support\n",
            "\n",
            "           0       0.63      0.69      0.66     16564\n",
            "           1       0.18      0.38      0.24      3389\n",
            "           2       0.43      0.21      0.28     10577\n",
            "\n",
            "    accuracy                           0.49     30530\n",
            "   macro avg       0.41      0.43      0.39     30530\n",
            "weighted avg       0.51      0.49      0.48     30530\n",
            "\n",
            "\n",
            "\n",
            "[[11447  2797  2320]\n",
            " [ 1487  1288   614]\n",
            " [ 5212  3172  2193]]\n"
          ],
          "name": "stdout"
        }
      ]
    },
    {
      "cell_type": "markdown",
      "metadata": {
        "id": "9HSCiPemuTwa"
      },
      "source": [
        "### KNN Model"
      ]
    },
    {
      "cell_type": "code",
      "metadata": {
        "colab": {
          "base_uri": "https://localhost:8080/"
        },
        "id": "mbxHuDPhuYSK",
        "outputId": "bb7d8ab3-55af-4d40-caaa-6a979b6f9751"
      },
      "source": [
        "knnmodel = KNeighborsClassifier(n_neighbors=7,weights='uniform')\r\n",
        "knnmodel.fit(X_train, y_train)\r\n",
        "y_test_best = y_test\r\n",
        "y_pred_best = knnmodel.predict(X_test)\r\n",
        "print(confusion_matrix(y_test_best, y_pred_best))\r\n",
        "print(\"\\n\")\r\n",
        "print(classification_report(y_test_best, y_pred_best))"
      ],
      "execution_count": 1525,
      "outputs": [
        {
          "output_type": "stream",
          "text": [
            "[[12795   307  3462]\n",
            " [ 2090   167  1132]\n",
            " [ 6873   396  3308]]\n",
            "\n",
            "\n",
            "              precision    recall  f1-score   support\n",
            "\n",
            "           0       0.59      0.77      0.67     16564\n",
            "           1       0.19      0.05      0.08      3389\n",
            "           2       0.42      0.31      0.36     10577\n",
            "\n",
            "    accuracy                           0.53     30530\n",
            "   macro avg       0.40      0.38      0.37     30530\n",
            "weighted avg       0.49      0.53      0.50     30530\n",
            "\n"
          ],
          "name": "stdout"
        }
      ]
    },
    {
      "cell_type": "markdown",
      "metadata": {
        "id": "GToFqN_z3eDi"
      },
      "source": [
        "### rforest model"
      ]
    },
    {
      "cell_type": "code",
      "metadata": {
        "colab": {
          "base_uri": "https://localhost:8080/"
        },
        "id": "McEOXKlq3gAz",
        "outputId": "fd486a0f-13cf-4963-d15c-4adbf6df9ee2"
      },
      "source": [
        "rforestmodel = RandomForestClassifier(n_estimators=25,class_weight='balanced')\r\n",
        "# Fit on training data\r\n",
        "rforestmodel.fit(X_train, y_train)\r\n",
        "rforestpredict = rforestmodel.predict(X_test)\r\n",
        "print(confusion_matrix(y_test, rforestpredict))\r\n",
        "print(\"\\n\")\r\n",
        "print(classification_report(y_test, rforestpredict))"
      ],
      "execution_count": 1526,
      "outputs": [
        {
          "output_type": "stream",
          "text": [
            "[[10896  1003  4665]\n",
            " [ 1783   290  1316]\n",
            " [ 5727   796  4054]]\n",
            "\n",
            "\n",
            "              precision    recall  f1-score   support\n",
            "\n",
            "           0       0.59      0.66      0.62     16564\n",
            "           1       0.14      0.09      0.11      3389\n",
            "           2       0.40      0.38      0.39     10577\n",
            "\n",
            "    accuracy                           0.50     30530\n",
            "   macro avg       0.38      0.38      0.37     30530\n",
            "weighted avg       0.48      0.50      0.49     30530\n",
            "\n"
          ],
          "name": "stdout"
        }
      ]
    },
    {
      "cell_type": "markdown",
      "metadata": {
        "id": "Tu8htQoPKKyN"
      },
      "source": [
        "# Model Selection \r\n",
        "--\r\n",
        "We saw that our most best model was the KNN  model used on our second dataframe (named 'df2'). This is expected as we dropped some columns that seemed to have no correlation with hospital time, such as sex and race.\r\n",
        "\r\n",
        "This dataframe had independent variables of:\r\n",
        "\r\n",
        "age \t -- The patient age \r\n",
        "\r\n",
        "time_in_hospital \t-- The amount of time spent in hospital\r\n",
        "\r\n",
        "num_procedures \t-- Number of procedures preformed in that encounter \r\n",
        "\r\n",
        "num_medications \t-- Number of medications administered in that encounter\r\n",
        "\r\n",
        "number_outpatient \t-- Number of outpatients visits in the last year\r\n",
        "\r\n",
        "number_emergency \t -- Number of emergency visits in the last year\r\n",
        "\r\n",
        "number_inpatient \t-- Number of inpatient visits in the last year\r\n",
        "\r\n",
        "number_diagnoses \t-- Number of diagnoses \r\n",
        "\r\n",
        "insulin \t-- Whether the patient takes insulin\r\n",
        "\r\n",
        "change \t-- If there was a change in diabetic medication\r\n",
        "\r\n",
        "\r\n",
        "This model predicted whether a patient would:\r\n",
        "\r\n",
        "0 - No be readmitted\r\n",
        "\r\n",
        "1 - Be readmitted within 30 days\r\n",
        "\r\n",
        "2 - Be readmitted after 30 days\r\n",
        "\r\n",
        "\r\n",
        "and had an average accuracy of 55% between 3 inputs."
      ]
    },
    {
      "cell_type": "code",
      "metadata": {
        "colab": {
          "base_uri": "https://localhost:8080/"
        },
        "id": "NGPHikZZQMCv",
        "outputId": "674034d0-26c0-4e87-83f7-251668914f84"
      },
      "source": [
        "knnmodel = KNeighborsClassifier(n_neighbors=30,weights='uniform')\r\n",
        "knnmodel.fit(X_train, y_train)\r\n",
        "y_test_best = y_test\r\n",
        "y_pred_best = knnmodel.predict(X_test)\r\n",
        "print(confusion_matrix(y_test_best, y_pred_best))\r\n",
        "print(\"\\n\")\r\n",
        "print(classification_report(y_test_best, y_pred_best))"
      ],
      "execution_count": 1527,
      "outputs": [
        {
          "output_type": "stream",
          "text": [
            "[[14119    26  2419]\n",
            " [ 2283    59  1047]\n",
            " [ 7456    63  3058]]\n",
            "\n",
            "\n",
            "              precision    recall  f1-score   support\n",
            "\n",
            "           0       0.59      0.85      0.70     16564\n",
            "           1       0.40      0.02      0.03      3389\n",
            "           2       0.47      0.29      0.36     10577\n",
            "\n",
            "    accuracy                           0.56     30530\n",
            "   macro avg       0.49      0.39      0.36     30530\n",
            "weighted avg       0.53      0.56      0.51     30530\n",
            "\n"
          ],
          "name": "stdout"
        }
      ]
    },
    {
      "cell_type": "markdown",
      "metadata": {
        "id": "YbwwcCjLXy7O"
      },
      "source": [
        "## Finding an optimal k-value for KNN --\r\n",
        "Plug in some values of K from 1-20 and find which one gives the highest accuracy.\r\n",
        "\r\n",
        "I found that I got the highest accuracy and macro avg precision whe  K = 35 , but my precision for 'readmissions within 30 days' was very low"
      ]
    },
    {
      "cell_type": "markdown",
      "metadata": {
        "id": "OodtxRsGZic3"
      },
      "source": [
        "## Conclusion\r\n",
        "\r\n",
        "We definitely could work a little harder and find a better model for this data but with a 56% accuracy I am happy with this model that it can, to some degree, accurately predict readmission of patients. "
      ]
    }
  ]
}