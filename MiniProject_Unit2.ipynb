{
  "nbformat": 4,
  "nbformat_minor": 0,
  "metadata": {
    "colab": {
      "name": "MiniProject-Unit2",
      "provenance": [],
      "authorship_tag": "ABX9TyPWuOhF5XjfrXy5hoHxqmjN",
      "include_colab_link": true
    },
    "kernelspec": {
      "display_name": "Python 3",
      "name": "python3"
    }
  },
  "cells": [
    {
      "cell_type": "markdown",
      "metadata": {
        "id": "view-in-github",
        "colab_type": "text"
      },
      "source": [
        "<a href=\"https://colab.research.google.com/github/Matin97/data_analytics/blob/main/MiniProject_Unit2.ipynb\" target=\"_parent\"><img src=\"https://colab.research.google.com/assets/colab-badge.svg\" alt=\"Open In Colab\"/></a>"
      ]
    },
    {
      "cell_type": "code",
      "metadata": {
        "colab": {
          "base_uri": "https://localhost:8080/"
        },
        "id": "SllcMjE46KNe",
        "outputId": "c51f5976-a104-41d6-9b93-69e1d903e37b"
      },
      "source": [
        "def num_checker(num):\r\n",
        "  \"\"\"Function to check if given integer meets certain conditions\"\"\"\r\n",
        "  if num%4==0: #even and multiple of 4 case\r\n",
        "    print(str(num) + \" is a multiple of 4 and is even\")\r\n",
        "  elif num%2 == 0: #even case\r\n",
        "    print(str(num) + \" is an even number\")\r\n",
        "  else: #odd case\r\n",
        "    print(str(num) +  \" is an odd number\")\r\n",
        "\r\n",
        "def two_param_num_checker(num, check):\r\n",
        "  \"\"\"Function to check if 1st integer is a multiple of 2nd integer\"\"\"\r\n",
        "  if num%check==0:\r\n",
        "    print(str(num) + \" is cleanly divided by \"+ str(check))\r\n",
        "  else:\r\n",
        "    print(str(num) + \" is NOT cleanly divided by \"+ str(check))\r\n",
        "\r\n",
        "\r\n",
        "flag = True \r\n",
        "\r\n",
        "while(flag):  #repeatedly ask the user for inputs until they break the flag\r\n",
        "  \r\n",
        "  try: \r\n",
        "    user_input = input(\"\\nPlease enter a number. Or type 'quit' to quit \")\r\n",
        "    if user_input.lower() == 'quit': #if user inputs quit, exit this loop\r\n",
        "     flag=False\r\n",
        "     break\r\n",
        "    num=int(user_input) #try converting this input into an integer\r\n",
        "\r\n",
        "  except ValueError: #if we have a ValueError\r\n",
        "    print(\"invalid input, please try again\") \r\n",
        "    continue #try the loop again\r\n",
        "\r\n",
        "  else:\r\n",
        "    num_checker(num) #otherwise throw it in the function\r\n",
        "    continue\r\n",
        "  \r\n",
        "print()\r\n",
        "\r\n",
        "flag=True\r\n",
        "while(flag): #loop to take 2 inputs\r\n",
        "   try:\r\n",
        "      num=input(\"\\nPlease enter a dividend \") #verifying our first input is valid\r\n",
        "      if num.lower() == 'quit':\r\n",
        "        flag=False\r\n",
        "        break\r\n",
        "      x=int(num)\r\n",
        "\r\n",
        "      check=input(\"Please enter a divisor \") #checking our second input\r\n",
        "      if check.lower() == 'quit':\r\n",
        "        flag=False\r\n",
        "        break\r\n",
        "      y=int(check)   \r\n",
        "\r\n",
        "   except ValueError:\r\n",
        "     print(\"invalid input, please try again\")\r\n",
        "     continue\r\n",
        "\r\n",
        "   else:           #otherwise, throw it in the function\r\n",
        "    two_param_num_checker(x,y)\r\n",
        "\r\n",
        "\r\n",
        "print(\"\\nquitting now... \")\r\n"
      ],
      "execution_count": null,
      "outputs": [
        {
          "output_type": "stream",
          "text": [
            "\n",
            "Please enter a number. Or type 'quit' to quit fsdasdf\n",
            "invalid input, please try again\n",
            "\n",
            "Please enter a number. Or type 'quit' to quit 34\n",
            "34 is an even number\n",
            "\n",
            "Please enter a number. Or type 'quit' to quit 444\n",
            "444 is a multiple of 4 and is even\n",
            "\n",
            "Please enter a number. Or type 'quit' to quit 75\n",
            "75 is an odd number\n",
            "\n",
            "Please enter a number. Or type 'quit' to quit lkj\n",
            "invalid input, please try again\n",
            "\n",
            "Please enter a number. Or type 'quit' to quit QUit\n",
            "\n",
            "\n",
            "Please enter a dividend 555\n",
            "Please enter a divisor 5\n",
            "555 is cleanly divided by 5\n",
            "\n",
            "Please enter a dividend 554\n",
            "Please enter a divisor dfa\n",
            "invalid input, please try again\n"
          ],
          "name": "stdout"
        }
      ]
    }
  ]
}